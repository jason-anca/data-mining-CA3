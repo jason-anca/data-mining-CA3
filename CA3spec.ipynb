{
  "cells": [
    {
      "cell_type": "markdown",
      "id": "7a35108d",
      "metadata": {},
      "source": [
        "# Assignment 3 specification\n",
        "\n",
        "The purpose of this assignment is to analyse the factors that might lead to (increased) consumption of both legal and illegal drugs. The data set is hosted on the UCI repository of datasets for machine learning.\n",
        "\n",
        "The dataset is provided with this notebook as a zip file.\n",
        "\n",
        "For your conveninece, code is provide below to read the data into the dataframe, and this notebook is setup so that students ar prompted to complete the tasks.\n"
      ]
    },
    {
      "cell_type": "markdown",
      "id": "39ecf21b",
      "metadata": {},
      "source": [
        "Students are asked to\n",
        "\n",
        "1. Read the data and split it into training and test datasets. Perform 3-pass EDA on this data, to learn about its structure and to assess which features might be suitable for prediction. __[20 marks]__\n",
        "2. For a decision tree classifier and any other classifier of your choosing, use the data description provided [here](https://archive.ics.uci.edu/dataset/373/drug+consumption+quantified) and the knowledge gained during EDA to find the best predictive model for the alcohol target, justifying the evaluation metric(s) you use. __[20 marks]__\n",
        "   - When comparing between the classifiers, students should consider a wide range of classification metrics, not just one.\n",
        "3. Use the same procedure as Task 2 to predict the following targets: caffeine, cocaine and heroin. Which \"drug\" (addictive substance) is the easiest to predict accurately, and why? __[25 marks]__\n",
        "   - When comparing across the targets, students should consider a wide range of classification metrics, not just one.\n",
        "4. Use hierarchical clustering to look for structural relationships within and between the features provided in the data. Hence, or otherwise, apply partitional clustering to the same data, discussing what groups of users have taken part in the drug consumption study. __[35 marks]__"
      ]
    },
    {
      "cell_type": "markdown",
      "id": "df7dfe05",
      "metadata": {},
      "source": [
        "# Here is some code to help you get started."
      ]
    },
    {
      "cell_type": "code",
      "execution_count": null,
      "id": "4085fab0",
      "metadata": {
        "tags": [
          "imports"
        ]
      },
      "outputs": [],
      "source": [
        "import numpy as np\n",
        "import pandas as pd\n",
        "import matplotlib.pyplot as plt\n",
        "import seaborn as sns\n",
        "sns.set_style('darkgrid')"
      ]
    },
    {
      "cell_type": "code",
      "execution_count": null,
      "id": "da8ffbc4",
      "metadata": {
        "tags": [
          "readData"
        ]
      },
      "outputs": [],
      "source": [
        "#factors = ['neuroticism', 'extroversion', 'openness', 'agreeableness', 'conscientiousness', 'impulsivity', 'sensation', 'education', 'age', 'gender', 'country', 'ethnicity']\n",
        "#targets = ['alcohol', 'amphetamines', 'amyl_nitrate', 'benzodiazepine', 'cannabis', 'chocolate', 'cocaine', 'caffeine', 'crack', 'ecstasy', 'heroin', 'ketamine', 'legal_highs', 'LSD', 'methadone', 'mushrooms', 'nicotine', 'semeron', 'volatile']\n",
        "#colnames = factors\n",
        "#colnames.extend(targets)\n",
        "df = pd.read_csv('data/Drug_Consumption.csv', index_col=0)\n",
        "df.head()"
      ]
    },
    {
      "cell_type": "markdown",
      "id": "73b1e34e",
      "metadata": {},
      "source": [
        "# Task 1: Read the data and split it into training and test datasets. Perform 3-pass EDA on this data, to learn about its structure and to assess which features might be suitable for prediction."
      ]
    },
    {
      "cell_type": "markdown",
      "id": "0c3fa34c",
      "metadata": {},
      "source": [
        "##Start of Answer 1##"
      ]
    },
    {
      "cell_type": "code",
      "execution_count": null,
      "id": "37a879b1",
      "metadata": {},
      "outputs": [],
      "source": []
    },
    {
      "cell_type": "markdown",
      "id": "a432edd9",
      "metadata": {},
      "source": [
        "##End of Answer 1##"
      ]
    },
    {
      "cell_type": "markdown",
      "id": "7d752d96",
      "metadata": {},
      "source": [
        "# Task 2: For a decision tree classifier and any other classifier of your choosing, use the data description provided [here](https://archive.ics.uci.edu/dataset/373/drug+consumption+quantified) and the knowledge gained during EDA to find the best predictive model for the alcohol target, justifying the evaluation metric(s) you use."
      ]
    },
    {
      "cell_type": "markdown",
      "id": "cce67a94",
      "metadata": {},
      "source": [
        "##Start of Answer 2##"
      ]
    },
    {
      "cell_type": "code",
      "execution_count": null,
      "id": "c88d0641",
      "metadata": {},
      "outputs": [],
      "source": []
    },
    {
      "cell_type": "markdown",
      "id": "6dc3ce37",
      "metadata": {},
      "source": [
        "##End of Answer 2##"
      ]
    },
    {
      "cell_type": "markdown",
      "id": "249422f9",
      "metadata": {},
      "source": [
        "# Task 3: Use the same procedure as Task 2 to predict the following targets: caffeine, cocaine and heroin. Which \"drug\" (addictive substance) is the easiest to predict accurately, and why?"
      ]
    },
    {
      "cell_type": "markdown",
      "id": "d03d6d11",
      "metadata": {},
      "source": [
        "##Start of Answer 3##"
      ]
    },
    {
      "cell_type": "code",
      "execution_count": null,
      "id": "89d992ed",
      "metadata": {},
      "outputs": [],
      "source": []
    },
    {
      "cell_type": "markdown",
      "id": "daab99b7",
      "metadata": {},
      "source": [
        "##End of Answer 3##"
      ]
    },
    {
      "cell_type": "markdown",
      "id": "1229f694",
      "metadata": {},
      "source": [
        "# Task 4: Use hierarchical clustering to look for structural relationships within and between the features provided in the data. Hence, or otherwise, apply partitional clustering to the same data, discussing what groups of users have taken part in the drug consumption study."
      ]
    },
    {
      "cell_type": "markdown",
      "id": "29305c36",
      "metadata": {},
      "source": [
        "##Start of Answer 4##"
      ]
    },
    {
      "cell_type": "code",
      "execution_count": null,
      "id": "d3f077bb",
      "metadata": {},
      "outputs": [],
      "source": []
    },
    {
      "cell_type": "markdown",
      "id": "ecb79a48",
      "metadata": {},
      "source": [
        "##End of Answer 4##"
      ]
    }
  ],
  "metadata": {
    "kernelspec": {
      "display_name": "Python 3 (ipykernel)",
      "language": "python",
      "name": "python3"
    }
  },
  "nbformat": 4,
  "nbformat_minor": 5
}
